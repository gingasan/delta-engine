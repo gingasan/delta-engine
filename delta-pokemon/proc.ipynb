{
 "cells": [
  {
   "cell_type": "code",
   "execution_count": 1,
   "metadata": {},
   "outputs": [],
   "source": [
    "from utils import *\n",
    "\n",
    "INSTRUCTION = \"\"\"\n",
    "You are a game programmer for Pokemon. You will be given either of following two tasks.\n",
    "1. I will give you a json script that details a pokemon role. Generate its python implementation.\n",
    "2. I will give you a json script that details a pokemon role as well as its python implementation. This pokemon is gonna learn a new move or ability. Generate the incremental code based on the previous implementation. You can overload previous methods or add new ones.\n",
    "\"\"\".strip()\n",
    "INPUT1 = \"\"\"\n",
    "Role script:\n",
    "```json\n",
    "{}\n",
    "```\n",
    "\"\"\".strip()\n",
    "INPUT2 = \"\"\"\n",
    "Role script:\n",
    "```json\n",
    "{}\n",
    "```\n",
    "\n",
    "Previous implementation:\n",
    "```python\n",
    "{}\n",
    "```\n",
    "\n",
    "{}\n",
    "\"\"\".strip()\n",
    "RESPONSE = \"\"\"\n",
    "```python\n",
    "{}\n",
    "```\n",
    "\"\"\".strip()"
   ]
  },
  {
   "cell_type": "code",
   "execution_count": 2,
   "metadata": {},
   "outputs": [],
   "source": [
    "def get_exs(entry, path1, path2):\n",
    "    content = read(\"{}/{}.py\".format(path1, entry))\n",
    "    complete_script = read_json(\"{}/{}.json\".format(path2, entry))\n",
    "    move_list = list(complete_script[\"moves\"].keys())\n",
    "    ability_list = list(complete_script[\"ability\"].keys())\n",
    "    script = {\n",
    "        \"species\": complete_script[\"species\"],\n",
    "        \"types\": complete_script[\"types\"],\n",
    "        \"gender\": complete_script[\"gender\"],\n",
    "        \"ability\": {ability_list[0]: complete_script[\"ability\"][ability_list[0]]},\n",
    "        \"moves\": {move_list[0]: complete_script[\"moves\"][move_list[0]], move_list[1]: complete_script[\"moves\"][move_list[1]]}\n",
    "    }\n",
    "    exs = []\n",
    "    block = content.split(\"# -------------------------------------------------------------\")[0].strip()\n",
    "    ex = {\"instruction\": INSTRUCTION, \"input\": INPUT1.format(json.dumps(script, indent=2, ensure_ascii=False)), \"response\": RESPONSE.format(block)}\n",
    "    exs += [ex]\n",
    "    to_do = []\n",
    "    if len(complete_script[\"ability\"]) == 1:\n",
    "        to_do = [{m: complete_script[\"moves\"][m]} for m in move_list[2:]]\n",
    "    elif len(complete_script[\"moves\"]) == 5 and len(complete_script[\"ability\"]) == 2:\n",
    "        to_do = [{m: complete_script[\"moves\"][m]} for m in move_list[2:-1]] + [{ability_list[-1]: complete_script[\"ability\"][ability_list[-1]]}] + [{move_list[-1]: complete_script[\"moves\"][move_list[-1]]}]\n",
    "    else:\n",
    "        to_do = [{m: complete_script[\"moves\"][m]} for m in move_list[2:]] + [{ability_list[-1]: complete_script[\"ability\"][ability_list[-1]]}]\n",
    "    code = exs[-1][\"response\"].strip(\"```python\\\\n\").strip()\n",
    "    for d, block in zip(to_do, content.split(\"# -------------------------------------------------------------\")[1:]):\n",
    "        block = block.strip()\n",
    "        is_ability = False if isinstance(list(d.values())[0], dict) else True\n",
    "        new = \"This role is gonna learn a new {}:\\n```json\\n{}\\n```\".format(\"ability\" if is_ability else \"move\", json.dumps(d, indent=2, ensure_ascii=False))\n",
    "        ex = {\"instruction\": INSTRUCTION, \"input\": INPUT2.format(json.dumps(script, indent=2, ensure_ascii=False), code, new), \"response\": RESPONSE.format(block)}\n",
    "        exs += [ex]\n",
    "        if is_ability:\n",
    "            script[\"ability\"].update(d)\n",
    "        else:\n",
    "            script[\"moves\"].update(d)\n",
    "        code = \"\\n\\n\".join([code, exs[-1][\"response\"].strip(\"```python\\\\n\").strip()])\n",
    "    return exs"
   ]
  },
  {
   "cell_type": "code",
   "execution_count": 3,
   "metadata": {},
   "outputs": [
    {
     "data": {
      "text/plain": [
       "(170, 480)"
      ]
     },
     "execution_count": 3,
     "metadata": {},
     "output_type": "execute_result"
    }
   ],
   "source": [
    "exs = []\n",
    "n = 0\n",
    "for filename in os.listdir(\"data/train/code\"):\n",
    "    if not filename.endswith(\".py\"): continue\n",
    "    entry = filename.split(\".\")[0]\n",
    "    exs += get_exs(entry, \"data/train/code\", \"data/train/script\")\n",
    "    n += 1\n",
    "write_jsonl(exs, \"train.jsonl\")\n",
    "n, len(exs)"
   ]
  }
 ],
 "metadata": {
  "kernelspec": {
   "display_name": "torch",
   "language": "python",
   "name": "python3"
  },
  "language_info": {
   "codemirror_mode": {
    "name": "ipython",
    "version": 3
   },
   "file_extension": ".py",
   "mimetype": "text/x-python",
   "name": "python",
   "nbconvert_exporter": "python",
   "pygments_lexer": "ipython3",
   "version": "3.10.0"
  }
 },
 "nbformat": 4,
 "nbformat_minor": 2
}
