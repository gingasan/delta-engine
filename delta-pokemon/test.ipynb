{
 "cells": [
  {
   "cell_type": "code",
   "execution_count": 4,
   "metadata": {},
   "outputs": [],
   "source": [
    "from engine import *\n",
    "SCRIPT_PATH = \"data/train/script\"\n",
    "CODE_PATH = \"data/train/code\""
   ]
  },
  {
   "cell_type": "code",
   "execution_count": 12,
   "metadata": {},
   "outputs": [
    {
     "name": "stdout",
     "output_type": "stream",
     "text": [
      "170\n"
     ]
    }
   ],
   "source": [
    "cands = [filename[:-3] for filename in os.listdir(CODE_PATH) if filename.endswith(\".py\")]\n",
    "print(len(cands))"
   ]
  },
  {
   "cell_type": "code",
   "execution_count": 11,
   "metadata": {},
   "outputs": [
    {
     "name": "stdout",
     "output_type": "stream",
     "text": [
      "from data.train.code.FireEagle_xcf import *\n",
      "role_obj=FireEagle()\n",
      "FireEagle_xcf\n",
      "from data.train.code.Zaochi_tst import *\n",
      "role_obj=Zaochi()\n",
      "Zaochi_tst\n",
      "<data.train.code.FireEagle_xcf.FireEagle object at 0x1129abd60>\n",
      "<data.train.code.Zaochi_tst.Zaochi object at 0x112e62ce0>\n",
      "Fire-Eagle Zaochi\n",
      "from data.train.code.Volcanion import *\n",
      "role_obj=()\n",
      "Volcanion\n",
      "from data.train.code.Dragonair_lnr import *\n",
      "role_obj=Dragonair()\n",
      "Dragonair_lnr\n",
      "()\n",
      "<data.train.code.Dragonair_lnr.Dragonair object at 0x112951ea0>\n"
     ]
    },
    {
     "ename": "AttributeError",
     "evalue": "'tuple' object has no attribute '_species'",
     "output_type": "error",
     "traceback": [
      "\u001b[0;31m---------------------------------------------------------------------------\u001b[0m",
      "\u001b[0;31mAttributeError\u001b[0m                            Traceback (most recent call last)",
      "Cell \u001b[0;32mIn[11], line 36\u001b[0m\n\u001b[1;32m     34\u001b[0m \u001b[38;5;28mprint\u001b[39m(pokemon1)\n\u001b[1;32m     35\u001b[0m \u001b[38;5;28mprint\u001b[39m(pokemon2)\n\u001b[0;32m---> 36\u001b[0m \u001b[38;5;28;01mwhile\u001b[39;00m pokemon1\u001b[38;5;241m.\u001b[39m_species \u001b[38;5;241m==\u001b[39m pokemon2\u001b[38;5;241m.\u001b[39m_species: pokemon1 \u001b[38;5;241m=\u001b[39m load_role(rndc(cands)); pokemon2 \u001b[38;5;241m=\u001b[39m load_role(rndc(cands))\n\u001b[1;32m     37\u001b[0m \u001b[38;5;28mprint\u001b[39m(pokemon1\u001b[38;5;241m.\u001b[39m_species, pokemon2\u001b[38;5;241m.\u001b[39m_species)\n\u001b[1;32m     38\u001b[0m battle \u001b[38;5;241m=\u001b[39m Battle(pokemon1, pokemon2)\n",
      "\u001b[0;31mAttributeError\u001b[0m: 'tuple' object has no attribute '_species'"
     ]
    }
   ],
   "source": [
    "def load_role(role_id):\n",
    "    if \"_\" in role_id:\n",
    "        class_name = \"_\".join(role_id.split(\"_\")[:-1])\n",
    "    else:\n",
    "        class_name - role_id\n",
    "    exec((\n",
    "        \"from {}.{} import *\\n\"\n",
    "        \"role_obj={}()\"\n",
    "    ).format(\".\".join(CODE_PATH.split(\"/\")), role_id, class_name), globals())\n",
    "    return role_obj\n",
    "\n",
    "def random_battle(battle):\n",
    "    flag = None\n",
    "    cache = {\"pokemon1\": {\"s1\": None, \"s2\": None}, \"pokemon2\": {\"s1\": None, \"s2\": None}, \"env\": {\"s1\": None, \"s2\": None}}\n",
    "    turn = 0\n",
    "    battle.start()\n",
    "    while not flag:\n",
    "        turn += 1\n",
    "        cache[\"pokemon1\"][\"s1\"] = deepcopy(battle.pokemon1.state)\n",
    "        cache[\"pokemon2\"][\"s1\"] = deepcopy(battle.pokemon2.state)\n",
    "        move1_id = rndc(battle.pokemon1.get_moves())\n",
    "        move2_id = rndc(battle.pokemon2.get_moves())\n",
    "        battle.act(move1_id, move2_id)\n",
    "        flag = battle.endturn()\n",
    "        cache[\"pokemon1\"][\"s2\"] = deepcopy(battle.pokemon1.state)\n",
    "        cache[\"pokemon2\"][\"s2\"] = deepcopy(battle.pokemon2.state)\n",
    "        # print(battle.pokemon1.sum)\n",
    "        # print(battle.pokemon2.sum)\n",
    "\n",
    "for i in range(1000):\n",
    "    pokemon1 = load_role(rndc(cands))\n",
    "    pokemon2 = load_role(rndc(cands))\n",
    "    print(pokemon1)\n",
    "    print(pokemon2)\n",
    "    while pokemon1._species == pokemon2._species: pokemon1 = load_role(rndc(cands)); pokemon2 = load_role(rndc(cands))\n",
    "    print(pokemon1._species, pokemon2._species)\n",
    "    battle = Battle(pokemon1, pokemon2)\n",
    "    random_battle(battle)"
   ]
  },
  {
   "cell_type": "code",
   "execution_count": null,
   "metadata": {},
   "outputs": [],
   "source": []
  }
 ],
 "metadata": {
  "kernelspec": {
   "display_name": "Python 3.11.5 ('torch': conda)",
   "language": "python",
   "name": "python3"
  },
  "language_info": {
   "codemirror_mode": {
    "name": "ipython",
    "version": 3
   },
   "file_extension": ".py",
   "mimetype": "text/x-python",
   "name": "python",
   "nbconvert_exporter": "python",
   "pygments_lexer": "ipython3",
   "version": "3.10.0"
  },
  "vscode": {
   "interpreter": {
    "hash": "2be2bbc0e12f6129645e79834e9415379dc487086528058bf44d310d7afbed8c"
   }
  }
 },
 "nbformat": 4,
 "nbformat_minor": 2
}
