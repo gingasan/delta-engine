{
 "cells": [
  {
   "cell_type": "code",
   "execution_count": 1,
   "metadata": {},
   "outputs": [
    {
     "data": {
      "text/plain": [
       "171"
      ]
     },
     "execution_count": 1,
     "metadata": {},
     "output_type": "execute_result"
    }
   ],
   "source": [
    "from utils import *\n",
    "dirs = [\"asset/train/code\"]\n",
    "n = 0\n",
    "for d in dirs:\n",
    "    for filename in os.listdir(d):\n",
    "        n += 1\n",
    "n"
   ]
  },
  {
   "cell_type": "code",
   "execution_count": 3,
   "metadata": {},
   "outputs": [
    {
     "name": "stdout",
     "output_type": "stream",
     "text": [
      "asset/train/code/Wangtianhou_kpi.py\n",
      "asset/train/code/Bladecuga_qnu.py\n",
      "asset/train/code/Espinas_thz.py\n",
      "asset/train/code/Moltaroth_wwg.py\n",
      "asset/train/code/Gardevoir_mmr.py\n",
      "asset/train/code/Blaziken_lck.py\n",
      "asset/train/code/Alloraptor_ptd.py\n",
      "asset/test/easy/Araquanid.py\n"
     ]
    }
   ],
   "source": [
    "dirs = [\"asset/train/code/\", \"asset/test/easy/\", \"asset/test/hard/\"]\n",
    "for d in dirs:\n",
    "    for filename in os.listdir(d):\n",
    "        if not filename.endswith(\".py\"):\n",
    "            continue\n",
    "        filename = \"{}{}\".format(d, filename)\n",
    "        content = read(filename)\n",
    "        if \"def set_status\" in content:\n",
    "            print(filename)"
   ]
  },
  {
   "cell_type": "code",
   "execution_count": 3,
   "metadata": {},
   "outputs": [
    {
     "name": "stdout",
     "output_type": "stream",
     "text": [
      "图片已保存为: 003Venusaur.png from https://media.52poke.com/wiki/a/ae/003Venusaur.png\n"
     ]
    }
   ],
   "source": [
    "import requests\n",
    "import os\n",
    "from utils import *\n",
    "\n",
    "\n",
    "def down(url):\n",
    "    response = requests.get(url)\n",
    "\n",
    "    if response.status_code == 200:\n",
    "        file_name = os.path.basename(url)\n",
    "\n",
    "        with open(\"png/{}\".format(file_name), 'wb') as file:\n",
    "            file.write(response.content)\n",
    "        print(f\"图片已保存为: {file_name} from {url}\")\n",
    "\n",
    "down(\"https://media.52poke.com/wiki/a/ae/003Venusaur.png\")\n",
    "\n",
    "# DB = read_json(\"db.json\")\n",
    "# no = 1\n",
    "# for k, v in DB[\"pokemon\"].items():\n",
    "#     j = str(no)\n",
    "#     while len(j) < 3:\n",
    "#         j = \"0\" + j\n",
    "#     url = \"https://media.52poke.com/wiki/0/02/{}{}.png\".format(j, k)\n",
    "#     no += 1\n",
    "\n",
    "#     response = requests.get(url)\n",
    "\n",
    "#     if response.status_code == 200:\n",
    "#         file_name = os.path.basename(url)\n",
    "\n",
    "#         with open(\"png/{}\".format(file_name), 'wb') as file:\n",
    "#             file.write(response.content)\n",
    "#         print(f\"图片已保存为: {file_name} from {url}\")"
   ]
  }
 ],
 "metadata": {
  "kernelspec": {
   "display_name": "torch",
   "language": "python",
   "name": "python3"
  },
  "language_info": {
   "codemirror_mode": {
    "name": "ipython",
    "version": 3
   },
   "file_extension": ".py",
   "mimetype": "text/x-python",
   "name": "python",
   "nbconvert_exporter": "python",
   "pygments_lexer": "ipython3",
   "version": "3.10.0"
  }
 },
 "nbformat": 4,
 "nbformat_minor": 2
}
